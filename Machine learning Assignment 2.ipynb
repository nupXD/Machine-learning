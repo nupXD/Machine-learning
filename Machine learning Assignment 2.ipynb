{
 "cells": [
  {
   "cell_type": "code",
   "execution_count": 1,
   "id": "8b9e7b05",
   "metadata": {},
   "outputs": [],
   "source": [
    "import pandas as pd\n",
    "import numpy as np\n",
    "import matplotlib.pyplot as plt\n",
    "import matplotlib.gridspec as gridspec\n",
    "import seaborn as sns\n",
    "import sklearn\n",
    "import lightgbm as lgb # LightGBM library needs to be installed to work correctly \n",
    "\n",
    "from sklearn import preprocessing \n",
    "from sklearn.model_selection import StratifiedKFold, train_test_split\n",
    "from sklearn.feature_selection import RFE\n",
    "from sklearn.linear_model import LogisticRegression\n",
    "from sklearn.naive_bayes import GaussianNB, BernoulliNB, MultinomialNB\n",
    "from sklearn.neighbors import NearestNeighbors\n",
    "from sklearn.metrics import f1_score\n",
    "from sklearn.cluster import DBSCAN\n",
    "from collections import Counter\n",
    "from sklearn.model_selection import train_test_split\n",
    "\n",
    "#Random forest\n",
    "from sklearn.model_selection import cross_val_score\n",
    "from sklearn.datasets import make_blobs\n",
    "from sklearn.ensemble import RandomForestClassifier\n",
    "from sklearn.ensemble import ExtraTreesClassifier\n",
    "from sklearn.tree import DecisionTreeClassifier\n",
    "from sklearn import metrics\n",
    "from sklearn.metrics import classification_report\n",
    "\n",
    "#Decision Tree\n",
    "from sklearn.tree import DecisionTreeClassifier \n",
    "from sklearn.metrics import classification_report, confusion_matrix  \n",
    "from sklearn.tree import DecisionTreeRegressor \n",
    "from sklearn import metrics \n",
    "\n",
    "import catboost\n",
    "from catboost import Pool\n",
    "from catboost import CatBoostRegressor\n",
    "\n",
    "from ipywidgets import interact\n",
    "import ipywidgets as widgets\n",
    "import warnings \n",
    "\n",
    "sns.set(style='white', context='talk')\n",
    "plt.style.use('seaborn')\n",
    "warnings.filterwarnings(\"ignore\")\n",
    "%matplotlib inline"
   ]
  },
  {
   "cell_type": "markdown",
   "id": "9ef00acf",
   "metadata": {},
   "source": [
    "## Importing dataset"
   ]
  },
  {
   "cell_type": "code",
   "execution_count": 2,
   "id": "ee959e6b",
   "metadata": {},
   "outputs": [
    {
     "name": "stdout",
     "output_type": "stream",
     "text": [
      "train: (2935849, 6) test: (214200, 3) items: (22170, 3) item_cats: (84, 2) shops: (60, 2)\n"
     ]
    }
   ],
   "source": [
    "def date_parser(date):\n",
    "    return pd.to_datetime(date, format='%d.%m.%Y')\n",
    "\n",
    "train = pd.read_csv('sales_train.csv', parse_dates=['date'], date_parser=date_parser)\n",
    "test = pd.read_csv('test.csv')\n",
    "\n",
    "items = pd.read_csv('items.csv')\n",
    "item_cats = pd.read_csv('item_categories.csv')\n",
    "shops = pd.read_csv('shops.csv')\n",
    "print('train:', train.shape, 'test:', test.shape, 'items:', items.shape, 'item_cats:', item_cats.shape, 'shops:', shops.shape)"
   ]
  },
  {
   "cell_type": "code",
   "execution_count": 3,
   "id": "3a8072da",
   "metadata": {},
   "outputs": [
    {
     "name": "stdout",
     "output_type": "stream",
     "text": [
      "There are  2935849 days of record for  33  months\n"
     ]
    },
    {
     "data": {
      "text/html": [
       "<div>\n",
       "<style scoped>\n",
       "    .dataframe tbody tr th:only-of-type {\n",
       "        vertical-align: middle;\n",
       "    }\n",
       "\n",
       "    .dataframe tbody tr th {\n",
       "        vertical-align: top;\n",
       "    }\n",
       "\n",
       "    .dataframe thead th {\n",
       "        text-align: right;\n",
       "    }\n",
       "</style>\n",
       "<table border=\"1\" class=\"dataframe\">\n",
       "  <thead>\n",
       "    <tr style=\"text-align: right;\">\n",
       "      <th></th>\n",
       "      <th>date</th>\n",
       "      <th>date_block_num</th>\n",
       "      <th>shop_id</th>\n",
       "      <th>item_id</th>\n",
       "      <th>item_price</th>\n",
       "      <th>item_cnt_day</th>\n",
       "    </tr>\n",
       "  </thead>\n",
       "  <tbody>\n",
       "    <tr>\n",
       "      <th>2935844</th>\n",
       "      <td>2015-10-10</td>\n",
       "      <td>33</td>\n",
       "      <td>25</td>\n",
       "      <td>7409</td>\n",
       "      <td>299.0</td>\n",
       "      <td>1.0</td>\n",
       "    </tr>\n",
       "    <tr>\n",
       "      <th>2935845</th>\n",
       "      <td>2015-10-09</td>\n",
       "      <td>33</td>\n",
       "      <td>25</td>\n",
       "      <td>7460</td>\n",
       "      <td>299.0</td>\n",
       "      <td>1.0</td>\n",
       "    </tr>\n",
       "    <tr>\n",
       "      <th>2935846</th>\n",
       "      <td>2015-10-14</td>\n",
       "      <td>33</td>\n",
       "      <td>25</td>\n",
       "      <td>7459</td>\n",
       "      <td>349.0</td>\n",
       "      <td>1.0</td>\n",
       "    </tr>\n",
       "    <tr>\n",
       "      <th>2935847</th>\n",
       "      <td>2015-10-22</td>\n",
       "      <td>33</td>\n",
       "      <td>25</td>\n",
       "      <td>7440</td>\n",
       "      <td>299.0</td>\n",
       "      <td>1.0</td>\n",
       "    </tr>\n",
       "    <tr>\n",
       "      <th>2935848</th>\n",
       "      <td>2015-10-03</td>\n",
       "      <td>33</td>\n",
       "      <td>25</td>\n",
       "      <td>7460</td>\n",
       "      <td>299.0</td>\n",
       "      <td>1.0</td>\n",
       "    </tr>\n",
       "  </tbody>\n",
       "</table>\n",
       "</div>"
      ],
      "text/plain": [
       "              date  date_block_num  shop_id  item_id  item_price  item_cnt_day\n",
       "2935844 2015-10-10              33       25     7409       299.0           1.0\n",
       "2935845 2015-10-09              33       25     7460       299.0           1.0\n",
       "2935846 2015-10-14              33       25     7459       349.0           1.0\n",
       "2935847 2015-10-22              33       25     7440       299.0           1.0\n",
       "2935848 2015-10-03              33       25     7460       299.0           1.0"
      ]
     },
     "execution_count": 3,
     "metadata": {},
     "output_type": "execute_result"
    }
   ],
   "source": [
    "print('There are ',len(train),'days of record for ',train['date_block_num'].max(),' months')\n",
    "train.tail()"
   ]
  },
  {
   "cell_type": "markdown",
   "id": "83a81f3a",
   "metadata": {},
   "source": [
    "### Category split and translation"
   ]
  },
  {
   "cell_type": "code",
   "execution_count": 4,
   "id": "8cebb8b3",
   "metadata": {},
   "outputs": [
    {
     "data": {
      "text/html": [
       "<div>\n",
       "<style scoped>\n",
       "    .dataframe tbody tr th:only-of-type {\n",
       "        vertical-align: middle;\n",
       "    }\n",
       "\n",
       "    .dataframe tbody tr th {\n",
       "        vertical-align: top;\n",
       "    }\n",
       "\n",
       "    .dataframe thead th {\n",
       "        text-align: right;\n",
       "    }\n",
       "</style>\n",
       "<table border=\"1\" class=\"dataframe\">\n",
       "  <thead>\n",
       "    <tr style=\"text-align: right;\">\n",
       "      <th></th>\n",
       "      <th>item_category_name</th>\n",
       "      <th>item_category_id</th>\n",
       "      <th>split</th>\n",
       "      <th>category</th>\n",
       "      <th>subcategory</th>\n",
       "    </tr>\n",
       "  </thead>\n",
       "  <tbody>\n",
       "    <tr>\n",
       "      <th>0</th>\n",
       "      <td>PC - Гарнитуры/Наушники</td>\n",
       "      <td>0</td>\n",
       "      <td>[PC ,  Гарнитуры/Наушники]</td>\n",
       "      <td>PC</td>\n",
       "      <td>Гарнитуры/Наушники</td>\n",
       "    </tr>\n",
       "    <tr>\n",
       "      <th>1</th>\n",
       "      <td>Аксессуары - PS2</td>\n",
       "      <td>1</td>\n",
       "      <td>[Аксессуары ,  PS2]</td>\n",
       "      <td>Аксессуары</td>\n",
       "      <td>PS2</td>\n",
       "    </tr>\n",
       "    <tr>\n",
       "      <th>2</th>\n",
       "      <td>Аксессуары - PS3</td>\n",
       "      <td>2</td>\n",
       "      <td>[Аксессуары ,  PS3]</td>\n",
       "      <td>Аксессуары</td>\n",
       "      <td>PS3</td>\n",
       "    </tr>\n",
       "    <tr>\n",
       "      <th>3</th>\n",
       "      <td>Аксессуары - PS4</td>\n",
       "      <td>3</td>\n",
       "      <td>[Аксессуары ,  PS4]</td>\n",
       "      <td>Аксессуары</td>\n",
       "      <td>PS4</td>\n",
       "    </tr>\n",
       "    <tr>\n",
       "      <th>4</th>\n",
       "      <td>Аксессуары - PSP</td>\n",
       "      <td>4</td>\n",
       "      <td>[Аксессуары ,  PSP]</td>\n",
       "      <td>Аксессуары</td>\n",
       "      <td>PSP</td>\n",
       "    </tr>\n",
       "    <tr>\n",
       "      <th>...</th>\n",
       "      <td>...</td>\n",
       "      <td>...</td>\n",
       "      <td>...</td>\n",
       "      <td>...</td>\n",
       "      <td>...</td>\n",
       "    </tr>\n",
       "    <tr>\n",
       "      <th>79</th>\n",
       "      <td>Служебные</td>\n",
       "      <td>79</td>\n",
       "      <td>[Служебные]</td>\n",
       "      <td>Служебные</td>\n",
       "      <td>Служебные</td>\n",
       "    </tr>\n",
       "    <tr>\n",
       "      <th>80</th>\n",
       "      <td>Служебные - Билеты</td>\n",
       "      <td>80</td>\n",
       "      <td>[Служебные ,  Билеты]</td>\n",
       "      <td>Служебные</td>\n",
       "      <td>Билеты</td>\n",
       "    </tr>\n",
       "    <tr>\n",
       "      <th>81</th>\n",
       "      <td>Чистые носители (шпиль)</td>\n",
       "      <td>81</td>\n",
       "      <td>[Чистые носители (шпиль)]</td>\n",
       "      <td>Чистые носители (шпиль)</td>\n",
       "      <td>Чистые носители (шпиль)</td>\n",
       "    </tr>\n",
       "    <tr>\n",
       "      <th>82</th>\n",
       "      <td>Чистые носители (штучные)</td>\n",
       "      <td>82</td>\n",
       "      <td>[Чистые носители (штучные)]</td>\n",
       "      <td>Чистые носители (штучные)</td>\n",
       "      <td>Чистые носители (штучные)</td>\n",
       "    </tr>\n",
       "    <tr>\n",
       "      <th>83</th>\n",
       "      <td>Элементы питания</td>\n",
       "      <td>83</td>\n",
       "      <td>[Элементы питания]</td>\n",
       "      <td>Элементы питания</td>\n",
       "      <td>Элементы питания</td>\n",
       "    </tr>\n",
       "  </tbody>\n",
       "</table>\n",
       "<p>84 rows × 5 columns</p>\n",
       "</div>"
      ],
      "text/plain": [
       "           item_category_name  item_category_id                        split  \\\n",
       "0     PC - Гарнитуры/Наушники                 0   [PC ,  Гарнитуры/Наушники]   \n",
       "1            Аксессуары - PS2                 1          [Аксессуары ,  PS2]   \n",
       "2            Аксессуары - PS3                 2          [Аксессуары ,  PS3]   \n",
       "3            Аксессуары - PS4                 3          [Аксессуары ,  PS4]   \n",
       "4            Аксессуары - PSP                 4          [Аксессуары ,  PSP]   \n",
       "..                        ...               ...                          ...   \n",
       "79                  Служебные                79                  [Служебные]   \n",
       "80         Служебные - Билеты                80        [Служебные ,  Билеты]   \n",
       "81    Чистые носители (шпиль)                81    [Чистые носители (шпиль)]   \n",
       "82  Чистые носители (штучные)                82  [Чистые носители (штучные)]   \n",
       "83           Элементы питания                83           [Элементы питания]   \n",
       "\n",
       "                     category                subcategory  \n",
       "0                          PC         Гарнитуры/Наушники  \n",
       "1                  Аксессуары                        PS2  \n",
       "2                  Аксессуары                        PS3  \n",
       "3                  Аксессуары                        PS4  \n",
       "4                  Аксессуары                        PSP  \n",
       "..                        ...                        ...  \n",
       "79                  Служебные                  Служебные  \n",
       "80                  Служебные                     Билеты  \n",
       "81    Чистые носители (шпиль)    Чистые носители (шпиль)  \n",
       "82  Чистые носители (штучные)  Чистые носители (штучные)  \n",
       "83           Элементы питания           Элементы питания  \n",
       "\n",
       "[84 rows x 5 columns]"
      ]
     },
     "execution_count": 4,
     "metadata": {},
     "output_type": "execute_result"
    }
   ],
   "source": [
    "item_cats['split'] = item_cats.item_category_name.str.split('-')\n",
    "item_cats['category'] = item_cats['split'].map(lambda x: x[0].strip())\n",
    "item_cats['subcategory'] = item_cats['split'].map(lambda x: x[1].strip() if len(x) > 1 else x[0].strip())\n",
    "item_cats"
   ]
  },
  {
   "cell_type": "code",
   "execution_count": 5,
   "id": "4081415a",
   "metadata": {},
   "outputs": [],
   "source": [
    "russian_categories = list(item_cats.category.unique())\n",
    "english_categories = [\n",
    "    'PC',\n",
    "    'Accessories',\n",
    "    'Tickets (Figure)',\n",
    "    'Delivery of goods',\n",
    "    'Game Consoles',\n",
    "    'Games',\n",
    "    'Android games',\n",
    "    'MAC Games',\n",
    "    'PC Games',\n",
    "    'Payment cards (Cinema, Music, Games)',\n",
    "    'Payment Cards',\n",
    "    'Movie',\n",
    "    'Books',\n",
    "    'Music',\n",
    "    'Presents',\n",
    "    'Programs',\n",
    "    'Utility',\n",
    "    'Clean media (spire)',\n",
    "    'Clean Media (Piece)',\n",
    "    'Batteries'\n",
    "]\n",
    "category_translation_map = dict(zip(russian_categories, english_categories))\n",
    "category_translation_map\n",
    "item_cats['english_category'] = item_cats['category'].apply(lambda x: category_translation_map[x])"
   ]
  },
  {
   "cell_type": "code",
   "execution_count": 6,
   "id": "e4fdc54b",
   "metadata": {},
   "outputs": [],
   "source": [
    "russian_subcategories = list(item_cats.subcategory.unique())\n",
    "english_subcategories = [\n",
    "    'Headsets / Headphones',\n",
    "    'Ps2',\n",
    "    'PS3',\n",
    "    'Ps4',\n",
    "    'PSP',\n",
    "    'Psvita',\n",
    "    'Xbox 360',\n",
    "    'XBOX ONE',\n",
    "    'Tickets (Figure)',\n",
    "    'Delivery of goods',\n",
    "    'Other',\n",
    "    'Game Accessories',\n",
    "    'Numeral',\n",
    "    'Additional editions',\n",
    "    'Collectible Editions',\n",
    "    'Standard Editions',\n",
    "    'Payment cards (Cinema, Music, Games)',\n",
    "    'Live!',\n",
    "    'Live! (Numeral)',\n",
    "    'Psn',\n",
    "    'Windows (Digit)',\n",
    "    'Blu',\n",
    "    'Dvd',\n",
    "    'Collectible',\n",
    "    'Artbooks, Encyclopedias',\n",
    "    'Audiobooks',\n",
    "    'Audiobooks (Digit)',\n",
    "    'Audiobooks 1C',\n",
    "    'Business Literature',\n",
    "    'Comics, Manga',\n",
    "    'Computer literature',\n",
    "    'Methodical materials 1С',\n",
    "    'Postcards',\n",
    "    'Cognitive literature',\n",
    "    'Guides',\n",
    "    'Fiction',\n",
    "    'Local Production CD',\n",
    "    'CD brand production',\n",
    "    'MP3',\n",
    "    'Vinyl',\n",
    "    'Music video',\n",
    "    'Gift editions',\n",
    "    'Attributes',\n",
    "    'Gadgets, robots, sports',\n",
    "    'Stuffed Toys',\n",
    "    'Board games',\n",
    "    'Board games (compact)',\n",
    "    'Postcards, Stickers',\n",
    "    'Development',\n",
    "    'Certificates, services',\n",
    "    'Souvenirs',\n",
    "    'Souvenirs (by weight)',\n",
    "    'Bags, Albums, Mousepad',\n",
    "    'Figures',\n",
    "    '1C: Enterprise 8',\n",
    "    'MAC (Digit)',\n",
    "    'Home and office',\n",
    "    'Home and Office (Digital)',\n",
    "    'Educational',\n",
    "    'Educational (Figure)',\n",
    "    'Utility',\n",
    "    'Tickets',\n",
    "    'Clean media (spire)',\n",
    "    'Clean Media (Piece)',\n",
    "    'Batteries'\n",
    "]\n",
    "subcategory_translation_map = dict(zip(russian_subcategories, english_subcategories))\n",
    "subcategory_translation_map\n",
    "item_cats['english_subcategory'] = item_cats['subcategory'].apply(lambda x: subcategory_translation_map[x])"
   ]
  },
  {
   "cell_type": "code",
   "execution_count": 7,
   "id": "36abb748",
   "metadata": {},
   "outputs": [
    {
     "name": "stdout",
     "output_type": "stream",
     "text": [
      "        item_category_name  item_category_id                       split  \\\n",
      "0  PC - Гарнитуры/Наушники                 0  [PC ,  Гарнитуры/Наушники]   \n",
      "1         Аксессуары - PS2                 1         [Аксессуары ,  PS2]   \n",
      "2         Аксессуары - PS3                 2         [Аксессуары ,  PS3]   \n",
      "3         Аксессуары - PS4                 3         [Аксессуары ,  PS4]   \n",
      "4         Аксессуары - PSP                 4         [Аксессуары ,  PSP]   \n",
      "\n",
      "     category         subcategory english_category    english_subcategory  \n",
      "0          PC  Гарнитуры/Наушники               PC  Headsets / Headphones  \n",
      "1  Аксессуары                 PS2      Accessories                    Ps2  \n",
      "2  Аксессуары                 PS3      Accessories                    PS3  \n",
      "3  Аксессуары                 PS4      Accessories                    Ps4  \n",
      "4  Аксессуары                 PSP      Accessories                    PSP  \n"
     ]
    }
   ],
   "source": [
    "print(item_cats.head())"
   ]
  },
  {
   "cell_type": "markdown",
   "id": "58a9dd93",
   "metadata": {},
   "source": [
    "## Data cleaning and preparation"
   ]
  },
  {
   "cell_type": "markdown",
   "id": "25d7cfa3",
   "metadata": {},
   "source": [
    "#### Joining data into one dataframe"
   ]
  },
  {
   "cell_type": "code",
   "execution_count": 8,
   "id": "5d2a8aa9",
   "metadata": {},
   "outputs": [],
   "source": [
    "train = pd.merge(train, shops, on='shop_id', how='left')\n",
    "train = pd.merge(train, items, on='item_id', how='left')\n",
    "train = pd.merge(train, item_cats, on='item_category_id', how='left')"
   ]
  },
  {
   "cell_type": "code",
   "execution_count": 9,
   "id": "a597750e",
   "metadata": {},
   "outputs": [
    {
     "name": "stdout",
     "output_type": "stream",
     "text": [
      "<class 'pandas.core.frame.DataFrame'>\n",
      "Int64Index: 2935849 entries, 0 to 2935848\n",
      "Data columns (total 15 columns):\n",
      " #   Column               Dtype         \n",
      "---  ------               -----         \n",
      " 0   date                 datetime64[ns]\n",
      " 1   date_block_num       int64         \n",
      " 2   shop_id              int64         \n",
      " 3   item_id              int64         \n",
      " 4   item_price           float64       \n",
      " 5   item_cnt_day         float64       \n",
      " 6   shop_name            object        \n",
      " 7   item_name            object        \n",
      " 8   item_category_id     int64         \n",
      " 9   item_category_name   object        \n",
      " 10  split                object        \n",
      " 11  category             object        \n",
      " 12  subcategory          object        \n",
      " 13  english_category     object        \n",
      " 14  english_subcategory  object        \n",
      "dtypes: datetime64[ns](1), float64(2), int64(4), object(8)\n",
      "memory usage: 358.4+ MB\n"
     ]
    },
    {
     "data": {
      "text/html": [
       "<div>\n",
       "<style scoped>\n",
       "    .dataframe tbody tr th:only-of-type {\n",
       "        vertical-align: middle;\n",
       "    }\n",
       "\n",
       "    .dataframe tbody tr th {\n",
       "        vertical-align: top;\n",
       "    }\n",
       "\n",
       "    .dataframe thead th {\n",
       "        text-align: right;\n",
       "    }\n",
       "</style>\n",
       "<table border=\"1\" class=\"dataframe\">\n",
       "  <thead>\n",
       "    <tr style=\"text-align: right;\">\n",
       "      <th></th>\n",
       "      <th>date</th>\n",
       "      <th>date_block_num</th>\n",
       "      <th>shop_id</th>\n",
       "      <th>item_id</th>\n",
       "      <th>item_price</th>\n",
       "      <th>item_cnt_day</th>\n",
       "      <th>shop_name</th>\n",
       "      <th>item_name</th>\n",
       "      <th>item_category_id</th>\n",
       "      <th>item_category_name</th>\n",
       "      <th>split</th>\n",
       "      <th>category</th>\n",
       "      <th>subcategory</th>\n",
       "      <th>english_category</th>\n",
       "      <th>english_subcategory</th>\n",
       "    </tr>\n",
       "  </thead>\n",
       "  <tbody>\n",
       "    <tr>\n",
       "      <th>0</th>\n",
       "      <td>2013-01-02</td>\n",
       "      <td>0</td>\n",
       "      <td>59</td>\n",
       "      <td>22154</td>\n",
       "      <td>999.00</td>\n",
       "      <td>1.0</td>\n",
       "      <td>Ярославль ТЦ \"Альтаир\"</td>\n",
       "      <td>ЯВЛЕНИЕ 2012 (BD)</td>\n",
       "      <td>37</td>\n",
       "      <td>Кино - Blu-Ray</td>\n",
       "      <td>[Кино ,  Blu, Ray]</td>\n",
       "      <td>Кино</td>\n",
       "      <td>Blu</td>\n",
       "      <td>Movie</td>\n",
       "      <td>Blu</td>\n",
       "    </tr>\n",
       "    <tr>\n",
       "      <th>1</th>\n",
       "      <td>2013-01-03</td>\n",
       "      <td>0</td>\n",
       "      <td>25</td>\n",
       "      <td>2552</td>\n",
       "      <td>899.00</td>\n",
       "      <td>1.0</td>\n",
       "      <td>Москва ТРК \"Атриум\"</td>\n",
       "      <td>DEEP PURPLE  The House Of Blue Light  LP</td>\n",
       "      <td>58</td>\n",
       "      <td>Музыка - Винил</td>\n",
       "      <td>[Музыка ,  Винил]</td>\n",
       "      <td>Музыка</td>\n",
       "      <td>Винил</td>\n",
       "      <td>Music</td>\n",
       "      <td>Vinyl</td>\n",
       "    </tr>\n",
       "    <tr>\n",
       "      <th>2</th>\n",
       "      <td>2013-01-05</td>\n",
       "      <td>0</td>\n",
       "      <td>25</td>\n",
       "      <td>2552</td>\n",
       "      <td>899.00</td>\n",
       "      <td>-1.0</td>\n",
       "      <td>Москва ТРК \"Атриум\"</td>\n",
       "      <td>DEEP PURPLE  The House Of Blue Light  LP</td>\n",
       "      <td>58</td>\n",
       "      <td>Музыка - Винил</td>\n",
       "      <td>[Музыка ,  Винил]</td>\n",
       "      <td>Музыка</td>\n",
       "      <td>Винил</td>\n",
       "      <td>Music</td>\n",
       "      <td>Vinyl</td>\n",
       "    </tr>\n",
       "    <tr>\n",
       "      <th>3</th>\n",
       "      <td>2013-01-06</td>\n",
       "      <td>0</td>\n",
       "      <td>25</td>\n",
       "      <td>2554</td>\n",
       "      <td>1709.05</td>\n",
       "      <td>1.0</td>\n",
       "      <td>Москва ТРК \"Атриум\"</td>\n",
       "      <td>DEEP PURPLE  Who Do You Think We Are  LP</td>\n",
       "      <td>58</td>\n",
       "      <td>Музыка - Винил</td>\n",
       "      <td>[Музыка ,  Винил]</td>\n",
       "      <td>Музыка</td>\n",
       "      <td>Винил</td>\n",
       "      <td>Music</td>\n",
       "      <td>Vinyl</td>\n",
       "    </tr>\n",
       "    <tr>\n",
       "      <th>4</th>\n",
       "      <td>2013-01-15</td>\n",
       "      <td>0</td>\n",
       "      <td>25</td>\n",
       "      <td>2555</td>\n",
       "      <td>1099.00</td>\n",
       "      <td>1.0</td>\n",
       "      <td>Москва ТРК \"Атриум\"</td>\n",
       "      <td>DEEP PURPLE 30 Very Best Of 2CD (Фирм.)</td>\n",
       "      <td>56</td>\n",
       "      <td>Музыка - CD фирменного производства</td>\n",
       "      <td>[Музыка ,  CD фирменного производства]</td>\n",
       "      <td>Музыка</td>\n",
       "      <td>CD фирменного производства</td>\n",
       "      <td>Music</td>\n",
       "      <td>CD brand production</td>\n",
       "    </tr>\n",
       "  </tbody>\n",
       "</table>\n",
       "</div>"
      ],
      "text/plain": [
       "        date  date_block_num  shop_id  item_id  item_price  item_cnt_day  \\\n",
       "0 2013-01-02               0       59    22154      999.00           1.0   \n",
       "1 2013-01-03               0       25     2552      899.00           1.0   \n",
       "2 2013-01-05               0       25     2552      899.00          -1.0   \n",
       "3 2013-01-06               0       25     2554     1709.05           1.0   \n",
       "4 2013-01-15               0       25     2555     1099.00           1.0   \n",
       "\n",
       "                shop_name                                 item_name  \\\n",
       "0  Ярославль ТЦ \"Альтаир\"                         ЯВЛЕНИЕ 2012 (BD)   \n",
       "1     Москва ТРК \"Атриум\"  DEEP PURPLE  The House Of Blue Light  LP   \n",
       "2     Москва ТРК \"Атриум\"  DEEP PURPLE  The House Of Blue Light  LP   \n",
       "3     Москва ТРК \"Атриум\"  DEEP PURPLE  Who Do You Think We Are  LP   \n",
       "4     Москва ТРК \"Атриум\"   DEEP PURPLE 30 Very Best Of 2CD (Фирм.)   \n",
       "\n",
       "   item_category_id                   item_category_name  \\\n",
       "0                37                       Кино - Blu-Ray   \n",
       "1                58                       Музыка - Винил   \n",
       "2                58                       Музыка - Винил   \n",
       "3                58                       Музыка - Винил   \n",
       "4                56  Музыка - CD фирменного производства   \n",
       "\n",
       "                                    split category  \\\n",
       "0                      [Кино ,  Blu, Ray]     Кино   \n",
       "1                       [Музыка ,  Винил]   Музыка   \n",
       "2                       [Музыка ,  Винил]   Музыка   \n",
       "3                       [Музыка ,  Винил]   Музыка   \n",
       "4  [Музыка ,  CD фирменного производства]   Музыка   \n",
       "\n",
       "                  subcategory english_category  english_subcategory  \n",
       "0                         Blu            Movie                  Blu  \n",
       "1                       Винил            Music                Vinyl  \n",
       "2                       Винил            Music                Vinyl  \n",
       "3                       Винил            Music                Vinyl  \n",
       "4  CD фирменного производства            Music  CD brand production  "
      ]
     },
     "execution_count": 9,
     "metadata": {},
     "output_type": "execute_result"
    }
   ],
   "source": [
    "train.info()\n",
    "train.head()"
   ]
  },
  {
   "cell_type": "markdown",
   "id": "eadfacfb",
   "metadata": {},
   "source": [
    "#### Droping duplicate data"
   ]
  },
  {
   "cell_type": "code",
   "execution_count": 10,
   "id": "6d7ded0c",
   "metadata": {},
   "outputs": [
    {
     "name": "stdout",
     "output_type": "stream",
     "text": [
      "train: (2935849, 15)\n",
      "train: (1224429, 15)\n"
     ]
    }
   ],
   "source": [
    "print('train:', train.shape)\n",
    "\n",
    "train.drop_duplicates(subset=['date','date_block_num','shop_id','item_id','item_cnt_day'], inplace=True)\n",
    "\n",
    "shops_test = test.shop_id.unique()\n",
    "items_test = test.item_id.unique()\n",
    "\n",
    "\n",
    "train = train[train.shop_id.isin(shops_test) & train.item_id.isin(items_test) ]\n",
    "\n",
    "\n",
    "print('train:', train.shape)"
   ]
  },
  {
   "cell_type": "markdown",
   "id": "7cc1d6e9",
   "metadata": {},
   "source": [
    "#### Checking missing data"
   ]
  },
  {
   "cell_type": "code",
   "execution_count": 11,
   "id": "b9cb9bf3",
   "metadata": {},
   "outputs": [
    {
     "data": {
      "text/plain": [
       "date                   0\n",
       "date_block_num         0\n",
       "shop_id                0\n",
       "item_id                0\n",
       "item_price             0\n",
       "item_cnt_day           0\n",
       "shop_name              0\n",
       "item_name              0\n",
       "item_category_id       0\n",
       "item_category_name     0\n",
       "split                  0\n",
       "category               0\n",
       "subcategory            0\n",
       "english_category       0\n",
       "english_subcategory    0\n",
       "dtype: int64"
      ]
     },
     "execution_count": 11,
     "metadata": {},
     "output_type": "execute_result"
    }
   ],
   "source": [
    "train.isnull().sum()"
   ]
  },
  {
   "cell_type": "markdown",
   "id": "349d2da0",
   "metadata": {},
   "source": [
    "### Getting familier with data"
   ]
  },
  {
   "cell_type": "code",
   "execution_count": 12,
   "id": "a19929d0",
   "metadata": {},
   "outputs": [
    {
     "data": {
      "text/html": [
       "<div>\n",
       "<style scoped>\n",
       "    .dataframe tbody tr th:only-of-type {\n",
       "        vertical-align: middle;\n",
       "    }\n",
       "\n",
       "    .dataframe tbody tr th {\n",
       "        vertical-align: top;\n",
       "    }\n",
       "\n",
       "    .dataframe thead th {\n",
       "        text-align: right;\n",
       "    }\n",
       "</style>\n",
       "<table border=\"1\" class=\"dataframe\">\n",
       "  <thead>\n",
       "    <tr style=\"text-align: right;\">\n",
       "      <th></th>\n",
       "      <th>item_price</th>\n",
       "      <th>item_cnt_day</th>\n",
       "    </tr>\n",
       "  </thead>\n",
       "  <tbody>\n",
       "    <tr>\n",
       "      <th>count</th>\n",
       "      <td>1.224429e+06</td>\n",
       "      <td>1.224429e+06</td>\n",
       "    </tr>\n",
       "    <tr>\n",
       "      <th>mean</th>\n",
       "      <td>1.030669e+03</td>\n",
       "      <td>1.321237e+00</td>\n",
       "    </tr>\n",
       "    <tr>\n",
       "      <th>std</th>\n",
       "      <td>1.827391e+03</td>\n",
       "      <td>3.313010e+00</td>\n",
       "    </tr>\n",
       "    <tr>\n",
       "      <th>min</th>\n",
       "      <td>5.000000e-01</td>\n",
       "      <td>-1.600000e+01</td>\n",
       "    </tr>\n",
       "    <tr>\n",
       "      <th>25%</th>\n",
       "      <td>2.990000e+02</td>\n",
       "      <td>1.000000e+00</td>\n",
       "    </tr>\n",
       "    <tr>\n",
       "      <th>50%</th>\n",
       "      <td>5.490000e+02</td>\n",
       "      <td>1.000000e+00</td>\n",
       "    </tr>\n",
       "    <tr>\n",
       "      <th>75%</th>\n",
       "      <td>1.199000e+03</td>\n",
       "      <td>1.000000e+00</td>\n",
       "    </tr>\n",
       "    <tr>\n",
       "      <th>max</th>\n",
       "      <td>5.920000e+04</td>\n",
       "      <td>2.169000e+03</td>\n",
       "    </tr>\n",
       "  </tbody>\n",
       "</table>\n",
       "</div>"
      ],
      "text/plain": [
       "         item_price  item_cnt_day\n",
       "count  1.224429e+06  1.224429e+06\n",
       "mean   1.030669e+03  1.321237e+00\n",
       "std    1.827391e+03  3.313010e+00\n",
       "min    5.000000e-01 -1.600000e+01\n",
       "25%    2.990000e+02  1.000000e+00\n",
       "50%    5.490000e+02  1.000000e+00\n",
       "75%    1.199000e+03  1.000000e+00\n",
       "max    5.920000e+04  2.169000e+03"
      ]
     },
     "execution_count": 12,
     "metadata": {},
     "output_type": "execute_result"
    }
   ],
   "source": [
    "train[['item_price', 'item_cnt_day']].describe()"
   ]
  },
  {
   "cell_type": "code",
   "execution_count": 13,
   "id": "7596f4b4",
   "metadata": {},
   "outputs": [
    {
     "data": {
      "text/html": [
       "<div>\n",
       "<style scoped>\n",
       "    .dataframe tbody tr th:only-of-type {\n",
       "        vertical-align: middle;\n",
       "    }\n",
       "\n",
       "    .dataframe tbody tr th {\n",
       "        vertical-align: top;\n",
       "    }\n",
       "\n",
       "    .dataframe thead th {\n",
       "        text-align: right;\n",
       "    }\n",
       "</style>\n",
       "<table border=\"1\" class=\"dataframe\">\n",
       "  <thead>\n",
       "    <tr style=\"text-align: right;\">\n",
       "      <th></th>\n",
       "      <th>date</th>\n",
       "      <th>date_block_num</th>\n",
       "      <th>shop_id</th>\n",
       "      <th>item_id</th>\n",
       "      <th>item_price</th>\n",
       "      <th>item_cnt_day</th>\n",
       "      <th>shop_name</th>\n",
       "      <th>item_name</th>\n",
       "      <th>item_category_id</th>\n",
       "      <th>item_category_name</th>\n",
       "      <th>split</th>\n",
       "      <th>category</th>\n",
       "      <th>subcategory</th>\n",
       "      <th>english_category</th>\n",
       "      <th>english_subcategory</th>\n",
       "    </tr>\n",
       "  </thead>\n",
       "  <tbody>\n",
       "    <tr>\n",
       "      <th>885138</th>\n",
       "      <td>2013-09-17</td>\n",
       "      <td>8</td>\n",
       "      <td>12</td>\n",
       "      <td>11365</td>\n",
       "      <td>59200.0</td>\n",
       "      <td>1.0</td>\n",
       "      <td>Интернет-магазин ЧС</td>\n",
       "      <td>Доставка (EMS)</td>\n",
       "      <td>9</td>\n",
       "      <td>Доставка товара</td>\n",
       "      <td>[Доставка товара]</td>\n",
       "      <td>Доставка товара</td>\n",
       "      <td>Доставка товара</td>\n",
       "      <td>Delivery of goods</td>\n",
       "      <td>Delivery of goods</td>\n",
       "    </tr>\n",
       "  </tbody>\n",
       "</table>\n",
       "</div>"
      ],
      "text/plain": [
       "             date  date_block_num  shop_id  item_id  item_price  item_cnt_day  \\\n",
       "885138 2013-09-17               8       12    11365     59200.0           1.0   \n",
       "\n",
       "                  shop_name       item_name  item_category_id  \\\n",
       "885138  Интернет-магазин ЧС  Доставка (EMS)                 9   \n",
       "\n",
       "       item_category_name              split         category  \\\n",
       "885138    Доставка товара  [Доставка товара]  Доставка товара   \n",
       "\n",
       "            subcategory   english_category english_subcategory  \n",
       "885138  Доставка товара  Delivery of goods   Delivery of goods  "
      ]
     },
     "execution_count": 13,
     "metadata": {},
     "output_type": "execute_result"
    }
   ],
   "source": [
    "train[train.item_price == train.item_price.max()]"
   ]
  },
  {
   "cell_type": "code",
   "execution_count": 14,
   "id": "c9bf0dc5",
   "metadata": {},
   "outputs": [
    {
     "data": {
      "text/plain": [
       "<AxesSubplot:ylabel='item_price'>"
      ]
     },
     "execution_count": 14,
     "metadata": {},
     "output_type": "execute_result"
    },
    {
     "data": {
      "image/png": "[encoded data removed]",
      "text/plain": [
       "<Figure size 432x288 with 1 Axes>"
      ]
     },
     "metadata": {
      "needs_background": "light"
     },
     "output_type": "display_data"
    }
   ],
   "source": [
    "fig, ax = plt.subplots()\n",
    "ax.set(yscale=\"log\")\n",
    "sns.boxplot(y=train.item_price, whis=1.5, ax=ax)"
   ]
  },
  {
   "cell_type": "code",
   "execution_count": 15,
   "id": "42046a7a",
   "metadata": {},
   "outputs": [],
   "source": [
    "train = train[~(train.item_price > 100000)]"
   ]
  },
  {
   "cell_type": "code",
   "execution_count": 16,
   "id": "3c71cf69",
   "metadata": {},
   "outputs": [
    {
     "data": {
      "text/html": [
       "<div>\n",
       "<style scoped>\n",
       "    .dataframe tbody tr th:only-of-type {\n",
       "        vertical-align: middle;\n",
       "    }\n",
       "\n",
       "    .dataframe tbody tr th {\n",
       "        vertical-align: top;\n",
       "    }\n",
       "\n",
       "    .dataframe thead th {\n",
       "        text-align: right;\n",
       "    }\n",
       "</style>\n",
       "<table border=\"1\" class=\"dataframe\">\n",
       "  <thead>\n",
       "    <tr style=\"text-align: right;\">\n",
       "      <th></th>\n",
       "      <th>date</th>\n",
       "      <th>date_block_num</th>\n",
       "      <th>shop_id</th>\n",
       "      <th>item_id</th>\n",
       "      <th>item_price</th>\n",
       "      <th>item_cnt_day</th>\n",
       "      <th>shop_name</th>\n",
       "      <th>item_name</th>\n",
       "      <th>item_category_id</th>\n",
       "      <th>item_category_name</th>\n",
       "      <th>split</th>\n",
       "      <th>category</th>\n",
       "      <th>subcategory</th>\n",
       "      <th>english_category</th>\n",
       "      <th>english_subcategory</th>\n",
       "    </tr>\n",
       "  </thead>\n",
       "  <tbody>\n",
       "    <tr>\n",
       "      <th>2909818</th>\n",
       "      <td>2015-10-28</td>\n",
       "      <td>33</td>\n",
       "      <td>12</td>\n",
       "      <td>11373</td>\n",
       "      <td>0.908714</td>\n",
       "      <td>2169.0</td>\n",
       "      <td>Интернет-магазин ЧС</td>\n",
       "      <td>Доставка до пункта выдачи (Boxberry)</td>\n",
       "      <td>9</td>\n",
       "      <td>Доставка товара</td>\n",
       "      <td>[Доставка товара]</td>\n",
       "      <td>Доставка товара</td>\n",
       "      <td>Доставка товара</td>\n",
       "      <td>Delivery of goods</td>\n",
       "      <td>Delivery of goods</td>\n",
       "    </tr>\n",
       "  </tbody>\n",
       "</table>\n",
       "</div>"
      ],
      "text/plain": [
       "              date  date_block_num  shop_id  item_id  item_price  \\\n",
       "2909818 2015-10-28              33       12    11373    0.908714   \n",
       "\n",
       "         item_cnt_day            shop_name  \\\n",
       "2909818        2169.0  Интернет-магазин ЧС   \n",
       "\n",
       "                                    item_name  item_category_id  \\\n",
       "2909818  Доставка до пункта выдачи (Boxberry)                 9   \n",
       "\n",
       "        item_category_name              split         category  \\\n",
       "2909818    Доставка товара  [Доставка товара]  Доставка товара   \n",
       "\n",
       "             subcategory   english_category english_subcategory  \n",
       "2909818  Доставка товара  Delivery of goods   Delivery of goods  "
      ]
     },
     "execution_count": 16,
     "metadata": {},
     "output_type": "execute_result"
    }
   ],
   "source": [
    "train[(train.item_cnt_day > 1000)]"
   ]
  },
  {
   "cell_type": "code",
   "execution_count": 17,
   "id": "af26ea3e",
   "metadata": {},
   "outputs": [
    {
     "data": {
      "text/plain": [
       "<AxesSubplot:ylabel='item_cnt_day'>"
      ]
     },
     "execution_count": 17,
     "metadata": {},
     "output_type": "execute_result"
    },
    {
     "data": {
      "image/png": "[encoded data removed]",
      "text/plain": [
       "<Figure size 432x288 with 1 Axes>"
      ]
     },
     "metadata": {
      "needs_background": "light"
     },
     "output_type": "display_data"
    }
   ],
   "source": [
    "fig, ax = plt.subplots()\n",
    "ax.set(yscale=\"log\")\n",
    "sns.boxplot(y=train.item_cnt_day, whis=1.5, ax=ax)"
   ]
  },
  {
   "cell_type": "code",
   "execution_count": 18,
   "id": "13cce193",
   "metadata": {},
   "outputs": [
    {
     "data": {
      "text/html": [
       "<div>\n",
       "<style scoped>\n",
       "    .dataframe tbody tr th:only-of-type {\n",
       "        vertical-align: middle;\n",
       "    }\n",
       "\n",
       "    .dataframe tbody tr th {\n",
       "        vertical-align: top;\n",
       "    }\n",
       "\n",
       "    .dataframe thead th {\n",
       "        text-align: right;\n",
       "    }\n",
       "</style>\n",
       "<table border=\"1\" class=\"dataframe\">\n",
       "  <thead>\n",
       "    <tr style=\"text-align: right;\">\n",
       "      <th></th>\n",
       "      <th>date</th>\n",
       "      <th>date_block_num</th>\n",
       "      <th>shop_id</th>\n",
       "      <th>item_id</th>\n",
       "      <th>item_price</th>\n",
       "      <th>item_cnt_day</th>\n",
       "      <th>shop_name</th>\n",
       "      <th>item_name</th>\n",
       "      <th>item_category_id</th>\n",
       "      <th>item_category_name</th>\n",
       "      <th>split</th>\n",
       "      <th>category</th>\n",
       "      <th>subcategory</th>\n",
       "      <th>english_category</th>\n",
       "      <th>english_subcategory</th>\n",
       "    </tr>\n",
       "  </thead>\n",
       "  <tbody>\n",
       "    <tr>\n",
       "      <th>1825</th>\n",
       "      <td>2013-01-02</td>\n",
       "      <td>0</td>\n",
       "      <td>25</td>\n",
       "      <td>4249</td>\n",
       "      <td>1894.87</td>\n",
       "      <td>-1.0</td>\n",
       "      <td>Москва ТРК \"Атриум\"</td>\n",
       "      <td>Kinect Star Wars [только для Kinect] [Xbox 360]</td>\n",
       "      <td>23</td>\n",
       "      <td>Игры - XBOX 360</td>\n",
       "      <td>[Игры ,  XBOX 360]</td>\n",
       "      <td>Игры</td>\n",
       "      <td>XBOX 360</td>\n",
       "      <td>Games</td>\n",
       "      <td>Xbox 360</td>\n",
       "    </tr>\n",
       "    <tr>\n",
       "      <th>5505</th>\n",
       "      <td>2013-01-14</td>\n",
       "      <td>0</td>\n",
       "      <td>25</td>\n",
       "      <td>16451</td>\n",
       "      <td>499.00</td>\n",
       "      <td>-1.0</td>\n",
       "      <td>Москва ТРК \"Атриум\"</td>\n",
       "      <td>ОБЛАЧНЫЙ АТЛАС (BD)</td>\n",
       "      <td>37</td>\n",
       "      <td>Кино - Blu-Ray</td>\n",
       "      <td>[Кино ,  Blu, Ray]</td>\n",
       "      <td>Кино</td>\n",
       "      <td>Blu</td>\n",
       "      <td>Movie</td>\n",
       "      <td>Blu</td>\n",
       "    </tr>\n",
       "    <tr>\n",
       "      <th>8499</th>\n",
       "      <td>2013-01-02</td>\n",
       "      <td>0</td>\n",
       "      <td>22</td>\n",
       "      <td>5572</td>\n",
       "      <td>1590.00</td>\n",
       "      <td>-1.0</td>\n",
       "      <td>Москва Магазин С21</td>\n",
       "      <td>PS Move Motion Controller (Контроллер движений...</td>\n",
       "      <td>2</td>\n",
       "      <td>Аксессуары - PS3</td>\n",
       "      <td>[Аксессуары ,  PS3]</td>\n",
       "      <td>Аксессуары</td>\n",
       "      <td>PS3</td>\n",
       "      <td>Accessories</td>\n",
       "      <td>PS3</td>\n",
       "    </tr>\n",
       "    <tr>\n",
       "      <th>8974</th>\n",
       "      <td>2013-01-11</td>\n",
       "      <td>0</td>\n",
       "      <td>22</td>\n",
       "      <td>835</td>\n",
       "      <td>4600.00</td>\n",
       "      <td>-1.0</td>\n",
       "      <td>Москва Магазин С21</td>\n",
       "      <td>1С:Управление торговлей 8. Базовая версия</td>\n",
       "      <td>73</td>\n",
       "      <td>Программы - 1С:Предприятие 8</td>\n",
       "      <td>[Программы ,  1С:Предприятие 8]</td>\n",
       "      <td>Программы</td>\n",
       "      <td>1С:Предприятие 8</td>\n",
       "      <td>Programs</td>\n",
       "      <td>1C: Enterprise 8</td>\n",
       "    </tr>\n",
       "    <tr>\n",
       "      <th>9508</th>\n",
       "      <td>2013-01-02</td>\n",
       "      <td>0</td>\n",
       "      <td>19</td>\n",
       "      <td>3851</td>\n",
       "      <td>899.00</td>\n",
       "      <td>-1.0</td>\n",
       "      <td>Курск ТЦ \"Пушкинский\"</td>\n",
       "      <td>Heavy Rain (Essentials) (с поддержкой PS Move)...</td>\n",
       "      <td>19</td>\n",
       "      <td>Игры - PS3</td>\n",
       "      <td>[Игры ,  PS3]</td>\n",
       "      <td>Игры</td>\n",
       "      <td>PS3</td>\n",
       "      <td>Games</td>\n",
       "      <td>PS3</td>\n",
       "    </tr>\n",
       "    <tr>\n",
       "      <th>...</th>\n",
       "      <td>...</td>\n",
       "      <td>...</td>\n",
       "      <td>...</td>\n",
       "      <td>...</td>\n",
       "      <td>...</td>\n",
       "      <td>...</td>\n",
       "      <td>...</td>\n",
       "      <td>...</td>\n",
       "      <td>...</td>\n",
       "      <td>...</td>\n",
       "      <td>...</td>\n",
       "      <td>...</td>\n",
       "      <td>...</td>\n",
       "      <td>...</td>\n",
       "      <td>...</td>\n",
       "    </tr>\n",
       "    <tr>\n",
       "      <th>2934243</th>\n",
       "      <td>2015-10-26</td>\n",
       "      <td>33</td>\n",
       "      <td>25</td>\n",
       "      <td>3917</td>\n",
       "      <td>449.00</td>\n",
       "      <td>-1.0</td>\n",
       "      <td>Москва ТРК \"Атриум\"</td>\n",
       "      <td>IRON MAIDEN  The Book Of Souls  2CD</td>\n",
       "      <td>55</td>\n",
       "      <td>Музыка - CD локального производства</td>\n",
       "      <td>[Музыка ,  CD локального производства]</td>\n",
       "      <td>Музыка</td>\n",
       "      <td>CD локального производства</td>\n",
       "      <td>Music</td>\n",
       "      <td>Local Production CD</td>\n",
       "    </tr>\n",
       "    <tr>\n",
       "      <th>2934462</th>\n",
       "      <td>2015-10-18</td>\n",
       "      <td>33</td>\n",
       "      <td>25</td>\n",
       "      <td>4896</td>\n",
       "      <td>6398.00</td>\n",
       "      <td>-1.0</td>\n",
       "      <td>Москва ТРК \"Атриум\"</td>\n",
       "      <td>Mortal Kombat X. Kollector's Edition [PS4, рус...</td>\n",
       "      <td>20</td>\n",
       "      <td>Игры - PS4</td>\n",
       "      <td>[Игры ,  PS4]</td>\n",
       "      <td>Игры</td>\n",
       "      <td>PS4</td>\n",
       "      <td>Games</td>\n",
       "      <td>Ps4</td>\n",
       "    </tr>\n",
       "    <tr>\n",
       "      <th>2935263</th>\n",
       "      <td>2015-10-05</td>\n",
       "      <td>33</td>\n",
       "      <td>25</td>\n",
       "      <td>10039</td>\n",
       "      <td>249.00</td>\n",
       "      <td>-1.0</td>\n",
       "      <td>Москва ТРК \"Атриум\"</td>\n",
       "      <td>ВОССТАНИЕ ПЛАНЕТЫ ОБЕЗЬЯН (BD)</td>\n",
       "      <td>37</td>\n",
       "      <td>Кино - Blu-Ray</td>\n",
       "      <td>[Кино ,  Blu, Ray]</td>\n",
       "      <td>Кино</td>\n",
       "      <td>Blu</td>\n",
       "      <td>Movie</td>\n",
       "      <td>Blu</td>\n",
       "    </tr>\n",
       "    <tr>\n",
       "      <th>2935643</th>\n",
       "      <td>2015-10-16</td>\n",
       "      <td>33</td>\n",
       "      <td>25</td>\n",
       "      <td>7893</td>\n",
       "      <td>2990.00</td>\n",
       "      <td>-1.0</td>\n",
       "      <td>Москва ТРК \"Атриум\"</td>\n",
       "      <td>X360: Геймпад беспроводной черный - Wireless C...</td>\n",
       "      <td>6</td>\n",
       "      <td>Аксессуары - XBOX 360</td>\n",
       "      <td>[Аксессуары ,  XBOX 360]</td>\n",
       "      <td>Аксессуары</td>\n",
       "      <td>XBOX 360</td>\n",
       "      <td>Accessories</td>\n",
       "      <td>Xbox 360</td>\n",
       "    </tr>\n",
       "    <tr>\n",
       "      <th>2935779</th>\n",
       "      <td>2015-10-07</td>\n",
       "      <td>33</td>\n",
       "      <td>25</td>\n",
       "      <td>7087</td>\n",
       "      <td>999.00</td>\n",
       "      <td>-1.0</td>\n",
       "      <td>Москва ТРК \"Атриум\"</td>\n",
       "      <td>Total War: Attila [PC, Jewel, русские субтитры]</td>\n",
       "      <td>30</td>\n",
       "      <td>Игры PC - Стандартные издания</td>\n",
       "      <td>[Игры PC ,  Стандартные издания]</td>\n",
       "      <td>Игры PC</td>\n",
       "      <td>Стандартные издания</td>\n",
       "      <td>PC Games</td>\n",
       "      <td>Standard Editions</td>\n",
       "    </tr>\n",
       "  </tbody>\n",
       "</table>\n",
       "<p>2941 rows × 15 columns</p>\n",
       "</div>"
      ],
      "text/plain": [
       "              date  date_block_num  shop_id  item_id  item_price  \\\n",
       "1825    2013-01-02               0       25     4249     1894.87   \n",
       "5505    2013-01-14               0       25    16451      499.00   \n",
       "8499    2013-01-02               0       22     5572     1590.00   \n",
       "8974    2013-01-11               0       22      835     4600.00   \n",
       "9508    2013-01-02               0       19     3851      899.00   \n",
       "...            ...             ...      ...      ...         ...   \n",
       "2934243 2015-10-26              33       25     3917      449.00   \n",
       "2934462 2015-10-18              33       25     4896     6398.00   \n",
       "2935263 2015-10-05              33       25    10039      249.00   \n",
       "2935643 2015-10-16              33       25     7893     2990.00   \n",
       "2935779 2015-10-07              33       25     7087      999.00   \n",
       "\n",
       "         item_cnt_day              shop_name  \\\n",
       "1825             -1.0    Москва ТРК \"Атриум\"   \n",
       "5505             -1.0    Москва ТРК \"Атриум\"   \n",
       "8499             -1.0     Москва Магазин С21   \n",
       "8974             -1.0     Москва Магазин С21   \n",
       "9508             -1.0  Курск ТЦ \"Пушкинский\"   \n",
       "...               ...                    ...   \n",
       "2934243          -1.0    Москва ТРК \"Атриум\"   \n",
       "2934462          -1.0    Москва ТРК \"Атриум\"   \n",
       "2935263          -1.0    Москва ТРК \"Атриум\"   \n",
       "2935643          -1.0    Москва ТРК \"Атриум\"   \n",
       "2935779          -1.0    Москва ТРК \"Атриум\"   \n",
       "\n",
       "                                                 item_name  item_category_id  \\\n",
       "1825       Kinect Star Wars [только для Kinect] [Xbox 360]                23   \n",
       "5505                                   ОБЛАЧНЫЙ АТЛАС (BD)                37   \n",
       "8499     PS Move Motion Controller (Контроллер движений...                 2   \n",
       "8974             1С:Управление торговлей 8. Базовая версия                73   \n",
       "9508     Heavy Rain (Essentials) (с поддержкой PS Move)...                19   \n",
       "...                                                    ...               ...   \n",
       "2934243                IRON MAIDEN  The Book Of Souls  2CD                55   \n",
       "2934462  Mortal Kombat X. Kollector's Edition [PS4, рус...                20   \n",
       "2935263                     ВОССТАНИЕ ПЛАНЕТЫ ОБЕЗЬЯН (BD)                37   \n",
       "2935643  X360: Геймпад беспроводной черный - Wireless C...                 6   \n",
       "2935779    Total War: Attila [PC, Jewel, русские субтитры]                30   \n",
       "\n",
       "                          item_category_name  \\\n",
       "1825                         Игры - XBOX 360   \n",
       "5505                          Кино - Blu-Ray   \n",
       "8499                        Аксессуары - PS3   \n",
       "8974            Программы - 1С:Предприятие 8   \n",
       "9508                              Игры - PS3   \n",
       "...                                      ...   \n",
       "2934243  Музыка - CD локального производства   \n",
       "2934462                           Игры - PS4   \n",
       "2935263                       Кино - Blu-Ray   \n",
       "2935643                Аксессуары - XBOX 360   \n",
       "2935779        Игры PC - Стандартные издания   \n",
       "\n",
       "                                          split    category  \\\n",
       "1825                         [Игры ,  XBOX 360]        Игры   \n",
       "5505                         [Кино ,  Blu, Ray]        Кино   \n",
       "8499                        [Аксессуары ,  PS3]  Аксессуары   \n",
       "8974            [Программы ,  1С:Предприятие 8]   Программы   \n",
       "9508                              [Игры ,  PS3]        Игры   \n",
       "...                                         ...         ...   \n",
       "2934243  [Музыка ,  CD локального производства]      Музыка   \n",
       "2934462                           [Игры ,  PS4]        Игры   \n",
       "2935263                      [Кино ,  Blu, Ray]        Кино   \n",
       "2935643                [Аксессуары ,  XBOX 360]  Аксессуары   \n",
       "2935779        [Игры PC ,  Стандартные издания]     Игры PC   \n",
       "\n",
       "                        subcategory english_category  english_subcategory  \n",
       "1825                       XBOX 360            Games             Xbox 360  \n",
       "5505                            Blu            Movie                  Blu  \n",
       "8499                            PS3      Accessories                  PS3  \n",
       "8974               1С:Предприятие 8         Programs     1C: Enterprise 8  \n",
       "9508                            PS3            Games                  PS3  \n",
       "...                             ...              ...                  ...  \n",
       "2934243  CD локального производства            Music  Local Production CD  \n",
       "2934462                         PS4            Games                  Ps4  \n",
       "2935263                         Blu            Movie                  Blu  \n",
       "2935643                    XBOX 360      Accessories             Xbox 360  \n",
       "2935779         Стандартные издания         PC Games    Standard Editions  \n",
       "\n",
       "[2941 rows x 15 columns]"
      ]
     },
     "execution_count": 18,
     "metadata": {},
     "output_type": "execute_result"
    }
   ],
   "source": [
    "train[train.item_cnt_day < 0]"
   ]
  },
  {
   "cell_type": "code",
   "execution_count": 19,
   "id": "af21df64",
   "metadata": {},
   "outputs": [],
   "source": [
    "train = train[~(train.item_cnt_day < 0)]"
   ]
  },
  {
   "cell_type": "markdown",
   "id": "50c60247",
   "metadata": {},
   "source": [
    "#### Duplicate removal"
   ]
  },
  {
   "cell_type": "code",
   "execution_count": 20,
   "id": "b666e274",
   "metadata": {},
   "outputs": [
    {
     "name": "stdout",
     "output_type": "stream",
     "text": [
      "frozenset({'Омск ТЦ \"Мега\"', 'Адыгея ТЦ \"Мега\"'})\n",
      "frozenset({'Волжский ТЦ \"Волга Молл\"', 'Москва МТРЦ \"Афи Молл\"'})\n",
      "frozenset({'Самара ТЦ \"ПаркХаус\"', 'Казань ТЦ \"ПаркХаус\" II'})\n",
      "frozenset({'Волжский ТЦ \"Волга Молл\"', 'Москва МТРЦ \"Афи Молл\"', 'Москва ТРК \"Атриум\"'})\n",
      "frozenset({'Москва ТЦ \"Семеновский\"', 'Москва ТК \"Буденовский\" (пав.К7)'})\n",
      "frozenset({'Москва МТРЦ \"Афи Молл\"', 'Москва ТРК \"Атриум\"'})\n",
      "frozenset({'Н.Новгород ТРЦ \"Фантастика\"', 'Н.Новгород ТРЦ \"РИО\"'})\n",
      "frozenset({'Новосибирск ТРЦ \"Галерея Новосибирск\"', 'Новосибирск ТЦ \"Мега\"'})\n",
      "frozenset({'Новосибирск ТРЦ \"Галерея Новосибирск\"', 'Омск ТЦ \"Мега\"', 'Новосибирск ТЦ \"Мега\"'})\n",
      "frozenset({'Адыгея ТЦ \"Мега\"', 'Омск ТЦ \"Мега\"', 'Новосибирск ТЦ \"Мега\"'})\n",
      "frozenset({'РостовНаДону ТЦ \"Мега\"', 'РостовНаДону ТРК \"Мегацентр Горизонт\"'})\n",
      "frozenset({'РостовНаДону ТЦ \"Мега\"', 'Омск ТЦ \"Мега\"', 'РостовНаДону ТРК \"Мегацентр Горизонт\"'})\n",
      "frozenset({'Самара ТЦ \"ПаркХаус\"', 'Самара ТЦ \"Мелодия\"'})\n",
      "frozenset({'Самара ТЦ \"ПаркХаус\"', 'Самара ТЦ \"Мелодия\"', 'Казань ТЦ \"ПаркХаус\" II'})\n",
      "frozenset({'Тюмень ТЦ \"Гудвин\"', 'Тюмень ТРЦ \"Кристалл\"'})\n",
      "frozenset({'Уфа ТК \"Центральный\"', 'Якутск ТЦ \"Центральный\"'})\n"
     ]
    }
   ],
   "source": [
    "import difflib\n",
    "shop_names = sorted(train.shop_name.unique())\n",
    "seen = set()\n",
    "for shop in shop_names:\n",
    "    \n",
    "    close_matches = frozenset(difflib.get_close_matches(shop, shop_names))\n",
    "    if close_matches == {shop}:\n",
    "        continue\n",
    "        \n",
    "    if close_matches in seen:\n",
    "        continue\n",
    "    print(close_matches)\n",
    "    seen.add(close_matches)"
   ]
  },
  {
   "cell_type": "code",
   "execution_count": 21,
   "id": "1cd76702",
   "metadata": {},
   "outputs": [],
   "source": [
    "# Якутск Орджоникидзе, 56 == Якутск Орджоникидзе, 56\n",
    "train.loc[train.shop_id == 0, 'shop_id'] = 57\n",
    "# !Якутск ТЦ \"Центральный == Якутск ТЦ \"Центральный\n",
    "train.loc[train.shop_id == 1, 'shop_id'] = 58\n",
    "# Жуковский ул. Чкалова 39м? == Жуковский ул. Чкалова 39м²\n",
    "train.loc[train.shop_id == 10, 'shop_id'] = 11"
   ]
  },
  {
   "cell_type": "markdown",
   "id": "d533fa5d",
   "metadata": {},
   "source": [
    "## Visualization of data"
   ]
  },
  {
   "cell_type": "markdown",
   "id": "d2a02664",
   "metadata": {},
   "source": [
    "### Sales plot"
   ]
  },
  {
   "cell_type": "code",
   "execution_count": 22,
   "id": "539cc284",
   "metadata": {},
   "outputs": [
    {
     "data": {
      "image/png": "[encoded data removed]",
      "text/plain": [
       "<Figure size 2520x720 with 1 Axes>"
      ]
     },
     "metadata": {
      "needs_background": "light"
     },
     "output_type": "display_data"
    }
   ],
   "source": [
    "plt.figure(figsize=(35,10))\n",
    "sns.countplot(x=train.date_block_num, data=train);\n",
    "plt.xticks(rotation=90)\n",
    "plt.show()"
   ]
  },
  {
   "cell_type": "markdown",
   "id": "bde0f34f",
   "metadata": {},
   "source": [
    "### Items per category"
   ]
  },
  {
   "cell_type": "code",
   "execution_count": 23,
   "id": "93430eec",
   "metadata": {},
   "outputs": [
    {
     "data": {
      "image/png": "[encoded data removed]",
      "text/plain": [
       "<Figure size 2520x720 with 1 Axes>"
      ]
     },
     "metadata": {
      "needs_background": "light"
     },
     "output_type": "display_data"
    }
   ],
   "source": [
    "plt.figure(figsize=(35,10))\n",
    "sns.countplot(x='english_category', data=train)\n",
    "plt.xticks(rotation=45)\n",
    "plt.show()"
   ]
  },
  {
   "cell_type": "markdown",
   "id": "bf5de139",
   "metadata": {},
   "source": [
    "### Getting an insight on the distribution of total item_cnt_day for date_block_num"
   ]
  },
  {
   "cell_type": "code",
   "execution_count": 24,
   "id": "0406a376",
   "metadata": {},
   "outputs": [
    {
     "data": {
      "text/plain": [
       "Text(0, 0.5, 'Number of sales')"
      ]
     },
     "execution_count": 24,
     "metadata": {},
     "output_type": "execute_result"
    },
    {
     "data": {
      "image/png": "[encoded data removed]",
      "text/plain": [
       "<Figure size 1080x720 with 1 Axes>"
      ]
     },
     "metadata": {
      "needs_background": "light"
     },
     "output_type": "display_data"
    }
   ],
   "source": [
    "plt.figure(figsize = (15,10))\n",
    "sns.lineplot(train.groupby('date_block_num').sum()['item_cnt_day'])\n",
    "plt.title('Sales per month')\n",
    "plt.xlabel('Month')\n",
    "plt.ylabel('Number of sales')"
   ]
  },
  {
   "cell_type": "code",
   "execution_count": 25,
   "id": "cc49b052",
   "metadata": {},
   "outputs": [
    {
     "data": {
      "text/plain": [
       "Text(0.5, 1.0, 'Normalized Distiribution')"
      ]
     },
     "execution_count": 25,
     "metadata": {},
     "output_type": "execute_result"
    },
    {
     "data": {
      "image/png": "[encoded data removed]",
      "text/plain": [
       "<Figure size 1080x1080 with 3 Axes>"
      ]
     },
     "metadata": {
      "needs_background": "light"
     },
     "output_type": "display_data"
    }
   ],
   "source": [
    "temp = train.date_block_num.value_counts().sort_index(ascending=False)\n",
    "\n",
    "plt.figure(figsize = (15,15))\n",
    "plt.subplot(221)\n",
    "sns.distplot(temp)\n",
    "plt.xlabel('Date Block');\n",
    "plt.title('Normalized Distiribution')\n",
    "\n",
    "temp = train.shop_id.value_counts().sort_index(ascending=False)\n",
    "plt.subplot(222)\n",
    "sns.distplot(temp)\n",
    "plt.xlabel('shop_id');\n",
    "plt.title('Normalized Distiribution')\n",
    "\n",
    "temp = train.item_id.value_counts().sort_index(ascending=False)\n",
    "plt.subplot(223)\n",
    "sns.distplot(temp)\n",
    "plt.xlabel('item_id');\n",
    "plt.title('Normalized Distiribution')"
   ]
  },
  {
   "cell_type": "markdown",
   "id": "4de7b87c",
   "metadata": {},
   "source": [
    "## Preprocessing for Training"
   ]
  },
  {
   "cell_type": "code",
   "execution_count": 26,
   "id": "735d03fe",
   "metadata": {},
   "outputs": [
    {
     "name": "stdout",
     "output_type": "stream",
     "text": [
      "              date  date_block_num  shop_id  item_id  item_price  \\\n",
      "2935844 2015-10-10              33       25     7409       299.0   \n",
      "2935845 2015-10-09              33       25     7460       299.0   \n",
      "2935846 2015-10-14              33       25     7459       349.0   \n",
      "2935847 2015-10-22              33       25     7440       299.0   \n",
      "2935848 2015-10-03              33       25     7460       299.0   \n",
      "\n",
      "         item_cnt_day            shop_name  \\\n",
      "2935844           1.0  Москва ТРК \"Атриум\"   \n",
      "2935845           1.0  Москва ТРК \"Атриум\"   \n",
      "2935846           1.0  Москва ТРК \"Атриум\"   \n",
      "2935847           1.0  Москва ТРК \"Атриум\"   \n",
      "2935848           1.0  Москва ТРК \"Атриум\"   \n",
      "\n",
      "                                                 item_name  item_category_id  \\\n",
      "2935844                   V/A Nu Jazz Selection (digipack)                55   \n",
      "2935845             V/A The Golden Jazz Collection  1  2CD                55   \n",
      "2935846                       V/A The Best Of The 3 Tenors                55   \n",
      "2935847  V/A Relax Collection  Planet MP3 (mp3-CD) (jewel)                57   \n",
      "2935848             V/A The Golden Jazz Collection  1  2CD                55   \n",
      "\n",
      "                          item_category_name  \\\n",
      "2935844  Музыка - CD локального производства   \n",
      "2935845  Музыка - CD локального производства   \n",
      "2935846  Музыка - CD локального производства   \n",
      "2935847                         Музыка - MP3   \n",
      "2935848  Музыка - CD локального производства   \n",
      "\n",
      "                                          split category  \\\n",
      "2935844  [Музыка ,  CD локального производства]   Музыка   \n",
      "2935845  [Музыка ,  CD локального производства]   Музыка   \n",
      "2935846  [Музыка ,  CD локального производства]   Музыка   \n",
      "2935847                         [Музыка ,  MP3]   Музыка   \n",
      "2935848  [Музыка ,  CD локального производства]   Музыка   \n",
      "\n",
      "                        subcategory english_category  english_subcategory  \n",
      "2935844  CD локального производства            Music  Local Production CD  \n",
      "2935845  CD локального производства            Music  Local Production CD  \n",
      "2935846  CD локального производства            Music  Local Production CD  \n",
      "2935847                         MP3            Music                  MP3  \n",
      "2935848  CD локального производства            Music  Local Production CD  \n"
     ]
    },
    {
     "data": {
      "text/html": [
       "<div>\n",
       "<style scoped>\n",
       "    .dataframe tbody tr th:only-of-type {\n",
       "        vertical-align: middle;\n",
       "    }\n",
       "\n",
       "    .dataframe tbody tr th {\n",
       "        vertical-align: top;\n",
       "    }\n",
       "\n",
       "    .dataframe thead th {\n",
       "        text-align: right;\n",
       "    }\n",
       "</style>\n",
       "<table border=\"1\" class=\"dataframe\">\n",
       "  <thead>\n",
       "    <tr style=\"text-align: right;\">\n",
       "      <th></th>\n",
       "      <th>date_block_num</th>\n",
       "      <th>0</th>\n",
       "      <th>1</th>\n",
       "      <th>2</th>\n",
       "      <th>3</th>\n",
       "      <th>4</th>\n",
       "      <th>5</th>\n",
       "      <th>6</th>\n",
       "      <th>7</th>\n",
       "      <th>8</th>\n",
       "      <th>9</th>\n",
       "      <th>...</th>\n",
       "      <th>24</th>\n",
       "      <th>25</th>\n",
       "      <th>26</th>\n",
       "      <th>27</th>\n",
       "      <th>28</th>\n",
       "      <th>29</th>\n",
       "      <th>30</th>\n",
       "      <th>31</th>\n",
       "      <th>32</th>\n",
       "      <th>33</th>\n",
       "    </tr>\n",
       "    <tr>\n",
       "      <th>shop_id</th>\n",
       "      <th>item_id</th>\n",
       "      <th></th>\n",
       "      <th></th>\n",
       "      <th></th>\n",
       "      <th></th>\n",
       "      <th></th>\n",
       "      <th></th>\n",
       "      <th></th>\n",
       "      <th></th>\n",
       "      <th></th>\n",
       "      <th></th>\n",
       "      <th></th>\n",
       "      <th></th>\n",
       "      <th></th>\n",
       "      <th></th>\n",
       "      <th></th>\n",
       "      <th></th>\n",
       "      <th></th>\n",
       "      <th></th>\n",
       "      <th></th>\n",
       "      <th></th>\n",
       "      <th></th>\n",
       "    </tr>\n",
       "  </thead>\n",
       "  <tbody>\n",
       "    <tr>\n",
       "      <th rowspan=\"5\" valign=\"top\">59</th>\n",
       "      <th>22145</th>\n",
       "      <td>0.0</td>\n",
       "      <td>0.0</td>\n",
       "      <td>0.0</td>\n",
       "      <td>0.0</td>\n",
       "      <td>0.0</td>\n",
       "      <td>0.0</td>\n",
       "      <td>0.0</td>\n",
       "      <td>0.0</td>\n",
       "      <td>0.0</td>\n",
       "      <td>0.0</td>\n",
       "      <td>...</td>\n",
       "      <td>0.0</td>\n",
       "      <td>0.0</td>\n",
       "      <td>0.0</td>\n",
       "      <td>0.0</td>\n",
       "      <td>0.0</td>\n",
       "      <td>0.0</td>\n",
       "      <td>0.0</td>\n",
       "      <td>0.0</td>\n",
       "      <td>0.0</td>\n",
       "      <td>0.0</td>\n",
       "    </tr>\n",
       "    <tr>\n",
       "      <th>22154</th>\n",
       "      <td>1.0</td>\n",
       "      <td>0.0</td>\n",
       "      <td>0.0</td>\n",
       "      <td>0.0</td>\n",
       "      <td>0.0</td>\n",
       "      <td>0.0</td>\n",
       "      <td>0.0</td>\n",
       "      <td>0.0</td>\n",
       "      <td>0.0</td>\n",
       "      <td>0.0</td>\n",
       "      <td>...</td>\n",
       "      <td>0.0</td>\n",
       "      <td>0.0</td>\n",
       "      <td>0.0</td>\n",
       "      <td>0.0</td>\n",
       "      <td>0.0</td>\n",
       "      <td>0.0</td>\n",
       "      <td>0.0</td>\n",
       "      <td>0.0</td>\n",
       "      <td>0.0</td>\n",
       "      <td>0.0</td>\n",
       "    </tr>\n",
       "    <tr>\n",
       "      <th>22162</th>\n",
       "      <td>0.0</td>\n",
       "      <td>0.0</td>\n",
       "      <td>0.0</td>\n",
       "      <td>0.0</td>\n",
       "      <td>0.0</td>\n",
       "      <td>0.0</td>\n",
       "      <td>0.0</td>\n",
       "      <td>0.0</td>\n",
       "      <td>0.0</td>\n",
       "      <td>0.0</td>\n",
       "      <td>...</td>\n",
       "      <td>0.0</td>\n",
       "      <td>9.0</td>\n",
       "      <td>4.0</td>\n",
       "      <td>1.0</td>\n",
       "      <td>1.0</td>\n",
       "      <td>0.0</td>\n",
       "      <td>0.0</td>\n",
       "      <td>1.0</td>\n",
       "      <td>0.0</td>\n",
       "      <td>0.0</td>\n",
       "    </tr>\n",
       "    <tr>\n",
       "      <th>22164</th>\n",
       "      <td>0.0</td>\n",
       "      <td>0.0</td>\n",
       "      <td>0.0</td>\n",
       "      <td>0.0</td>\n",
       "      <td>0.0</td>\n",
       "      <td>0.0</td>\n",
       "      <td>0.0</td>\n",
       "      <td>0.0</td>\n",
       "      <td>0.0</td>\n",
       "      <td>0.0</td>\n",
       "      <td>...</td>\n",
       "      <td>0.0</td>\n",
       "      <td>2.0</td>\n",
       "      <td>1.0</td>\n",
       "      <td>2.0</td>\n",
       "      <td>0.0</td>\n",
       "      <td>0.0</td>\n",
       "      <td>1.0</td>\n",
       "      <td>0.0</td>\n",
       "      <td>0.0</td>\n",
       "      <td>0.0</td>\n",
       "    </tr>\n",
       "    <tr>\n",
       "      <th>22167</th>\n",
       "      <td>0.0</td>\n",
       "      <td>0.0</td>\n",
       "      <td>0.0</td>\n",
       "      <td>0.0</td>\n",
       "      <td>0.0</td>\n",
       "      <td>0.0</td>\n",
       "      <td>0.0</td>\n",
       "      <td>0.0</td>\n",
       "      <td>0.0</td>\n",
       "      <td>1.0</td>\n",
       "      <td>...</td>\n",
       "      <td>0.0</td>\n",
       "      <td>0.0</td>\n",
       "      <td>0.0</td>\n",
       "      <td>0.0</td>\n",
       "      <td>0.0</td>\n",
       "      <td>0.0</td>\n",
       "      <td>0.0</td>\n",
       "      <td>0.0</td>\n",
       "      <td>0.0</td>\n",
       "      <td>0.0</td>\n",
       "    </tr>\n",
       "  </tbody>\n",
       "</table>\n",
       "<p>5 rows × 34 columns</p>\n",
       "</div>"
      ],
      "text/plain": [
       "date_block_num    0    1    2    3    4    5    6    7    8    9   ...   24  \\\n",
       "shop_id item_id                                                    ...        \n",
       "59      22145    0.0  0.0  0.0  0.0  0.0  0.0  0.0  0.0  0.0  0.0  ...  0.0   \n",
       "        22154    1.0  0.0  0.0  0.0  0.0  0.0  0.0  0.0  0.0  0.0  ...  0.0   \n",
       "        22162    0.0  0.0  0.0  0.0  0.0  0.0  0.0  0.0  0.0  0.0  ...  0.0   \n",
       "        22164    0.0  0.0  0.0  0.0  0.0  0.0  0.0  0.0  0.0  0.0  ...  0.0   \n",
       "        22167    0.0  0.0  0.0  0.0  0.0  0.0  0.0  0.0  0.0  1.0  ...  0.0   \n",
       "\n",
       "date_block_num    25   26   27   28   29   30   31   32   33  \n",
       "shop_id item_id                                               \n",
       "59      22145    0.0  0.0  0.0  0.0  0.0  0.0  0.0  0.0  0.0  \n",
       "        22154    0.0  0.0  0.0  0.0  0.0  0.0  0.0  0.0  0.0  \n",
       "        22162    9.0  4.0  1.0  1.0  0.0  0.0  1.0  0.0  0.0  \n",
       "        22164    2.0  1.0  2.0  0.0  0.0  1.0  0.0  0.0  0.0  \n",
       "        22167    0.0  0.0  0.0  0.0  0.0  0.0  0.0  0.0  0.0  \n",
       "\n",
       "[5 rows x 34 columns]"
      ]
     },
     "execution_count": 26,
     "metadata": {},
     "output_type": "execute_result"
    }
   ],
   "source": [
    "print(train.tail())\n",
    "pivoted_train = train.pivot_table(index=['shop_id','item_id'], columns='date_block_num', values='item_cnt_day',aggfunc='sum').fillna(0.0)\n",
    "pivoted_train.tail()\n",
    "#pivoted_train['item_id']"
   ]
  },
  {
   "cell_type": "code",
   "execution_count": 27,
   "id": "4fb4c9a0",
   "metadata": {},
   "outputs": [
    {
     "data": {
      "text/plain": [
       "count    111404.000000\n",
       "mean          0.465908\n",
       "std           3.154401\n",
       "min           0.000000\n",
       "25%           0.000000\n",
       "50%           0.000000\n",
       "75%           0.000000\n",
       "max         444.000000\n",
       "Name: 29, dtype: float64"
      ]
     },
     "execution_count": 27,
     "metadata": {},
     "output_type": "execute_result"
    }
   ],
   "source": [
    "pivoted_train[29].describe()"
   ]
  },
  {
   "cell_type": "markdown",
   "id": "01889bab",
   "metadata": {},
   "source": [
    "### Changing catagorical value into integier "
   ]
  },
  {
   "cell_type": "code",
   "execution_count": 28,
   "id": "a5a38a0f",
   "metadata": {},
   "outputs": [
    {
     "data": {
      "text/html": [
       "<div>\n",
       "<style scoped>\n",
       "    .dataframe tbody tr th:only-of-type {\n",
       "        vertical-align: middle;\n",
       "    }\n",
       "\n",
       "    .dataframe tbody tr th {\n",
       "        vertical-align: top;\n",
       "    }\n",
       "\n",
       "    .dataframe thead th {\n",
       "        text-align: right;\n",
       "    }\n",
       "</style>\n",
       "<table border=\"1\" class=\"dataframe\">\n",
       "  <thead>\n",
       "    <tr style=\"text-align: right;\">\n",
       "      <th></th>\n",
       "      <th>shop_id</th>\n",
       "      <th>item_id</th>\n",
       "      <th>english_category</th>\n",
       "      <th>0</th>\n",
       "      <th>1</th>\n",
       "      <th>2</th>\n",
       "      <th>3</th>\n",
       "      <th>4</th>\n",
       "      <th>5</th>\n",
       "      <th>6</th>\n",
       "      <th>...</th>\n",
       "      <th>24</th>\n",
       "      <th>25</th>\n",
       "      <th>26</th>\n",
       "      <th>27</th>\n",
       "      <th>28</th>\n",
       "      <th>29</th>\n",
       "      <th>30</th>\n",
       "      <th>31</th>\n",
       "      <th>32</th>\n",
       "      <th>33</th>\n",
       "    </tr>\n",
       "  </thead>\n",
       "  <tbody>\n",
       "    <tr>\n",
       "      <th>0</th>\n",
       "      <td>2</td>\n",
       "      <td>30</td>\n",
       "      <td>7</td>\n",
       "      <td>0.0</td>\n",
       "      <td>0.0</td>\n",
       "      <td>1.0</td>\n",
       "      <td>0.0</td>\n",
       "      <td>0.0</td>\n",
       "      <td>1.0</td>\n",
       "      <td>0.0</td>\n",
       "      <td>...</td>\n",
       "      <td>0.0</td>\n",
       "      <td>0.0</td>\n",
       "      <td>0.0</td>\n",
       "      <td>0.0</td>\n",
       "      <td>0.0</td>\n",
       "      <td>0.0</td>\n",
       "      <td>0.0</td>\n",
       "      <td>0.0</td>\n",
       "      <td>0.0</td>\n",
       "      <td>0.0</td>\n",
       "    </tr>\n",
       "    <tr>\n",
       "      <th>1</th>\n",
       "      <td>3</td>\n",
       "      <td>30</td>\n",
       "      <td>7</td>\n",
       "      <td>0.0</td>\n",
       "      <td>4.0</td>\n",
       "      <td>5.0</td>\n",
       "      <td>2.0</td>\n",
       "      <td>2.0</td>\n",
       "      <td>1.0</td>\n",
       "      <td>0.0</td>\n",
       "      <td>...</td>\n",
       "      <td>0.0</td>\n",
       "      <td>0.0</td>\n",
       "      <td>0.0</td>\n",
       "      <td>0.0</td>\n",
       "      <td>0.0</td>\n",
       "      <td>0.0</td>\n",
       "      <td>1.0</td>\n",
       "      <td>0.0</td>\n",
       "      <td>0.0</td>\n",
       "      <td>0.0</td>\n",
       "    </tr>\n",
       "    <tr>\n",
       "      <th>2</th>\n",
       "      <td>4</td>\n",
       "      <td>30</td>\n",
       "      <td>7</td>\n",
       "      <td>0.0</td>\n",
       "      <td>7.0</td>\n",
       "      <td>3.0</td>\n",
       "      <td>0.0</td>\n",
       "      <td>0.0</td>\n",
       "      <td>0.0</td>\n",
       "      <td>0.0</td>\n",
       "      <td>...</td>\n",
       "      <td>0.0</td>\n",
       "      <td>0.0</td>\n",
       "      <td>0.0</td>\n",
       "      <td>0.0</td>\n",
       "      <td>0.0</td>\n",
       "      <td>0.0</td>\n",
       "      <td>0.0</td>\n",
       "      <td>0.0</td>\n",
       "      <td>0.0</td>\n",
       "      <td>0.0</td>\n",
       "    </tr>\n",
       "    <tr>\n",
       "      <th>3</th>\n",
       "      <td>5</td>\n",
       "      <td>30</td>\n",
       "      <td>7</td>\n",
       "      <td>0.0</td>\n",
       "      <td>5.0</td>\n",
       "      <td>7.0</td>\n",
       "      <td>1.0</td>\n",
       "      <td>0.0</td>\n",
       "      <td>0.0</td>\n",
       "      <td>0.0</td>\n",
       "      <td>...</td>\n",
       "      <td>0.0</td>\n",
       "      <td>0.0</td>\n",
       "      <td>0.0</td>\n",
       "      <td>0.0</td>\n",
       "      <td>0.0</td>\n",
       "      <td>0.0</td>\n",
       "      <td>0.0</td>\n",
       "      <td>1.0</td>\n",
       "      <td>0.0</td>\n",
       "      <td>0.0</td>\n",
       "    </tr>\n",
       "    <tr>\n",
       "      <th>4</th>\n",
       "      <td>6</td>\n",
       "      <td>30</td>\n",
       "      <td>7</td>\n",
       "      <td>0.0</td>\n",
       "      <td>28.0</td>\n",
       "      <td>10.0</td>\n",
       "      <td>4.0</td>\n",
       "      <td>0.0</td>\n",
       "      <td>1.0</td>\n",
       "      <td>0.0</td>\n",
       "      <td>...</td>\n",
       "      <td>1.0</td>\n",
       "      <td>0.0</td>\n",
       "      <td>0.0</td>\n",
       "      <td>0.0</td>\n",
       "      <td>0.0</td>\n",
       "      <td>0.0</td>\n",
       "      <td>0.0</td>\n",
       "      <td>0.0</td>\n",
       "      <td>1.0</td>\n",
       "      <td>0.0</td>\n",
       "    </tr>\n",
       "  </tbody>\n",
       "</table>\n",
       "<p>5 rows × 37 columns</p>\n",
       "</div>"
      ],
      "text/plain": [
       "  shop_id item_id  english_category    0     1     2    3    4    5    6  ...  \\\n",
       "0       2      30                 7  0.0   0.0   1.0  0.0  0.0  1.0  0.0  ...   \n",
       "1       3      30                 7  0.0   4.0   5.0  2.0  2.0  1.0  0.0  ...   \n",
       "2       4      30                 7  0.0   7.0   3.0  0.0  0.0  0.0  0.0  ...   \n",
       "3       5      30                 7  0.0   5.0   7.0  1.0  0.0  0.0  0.0  ...   \n",
       "4       6      30                 7  0.0  28.0  10.0  4.0  0.0  1.0  0.0  ...   \n",
       "\n",
       "    24   25   26   27   28   29   30   31   32   33  \n",
       "0  0.0  0.0  0.0  0.0  0.0  0.0  0.0  0.0  0.0  0.0  \n",
       "1  0.0  0.0  0.0  0.0  0.0  0.0  1.0  0.0  0.0  0.0  \n",
       "2  0.0  0.0  0.0  0.0  0.0  0.0  0.0  0.0  0.0  0.0  \n",
       "3  0.0  0.0  0.0  0.0  0.0  0.0  0.0  1.0  0.0  0.0  \n",
       "4  1.0  0.0  0.0  0.0  0.0  0.0  0.0  0.0  1.0  0.0  \n",
       "\n",
       "[5 rows x 37 columns]"
      ]
     },
     "execution_count": 28,
     "metadata": {},
     "output_type": "execute_result"
    }
   ],
   "source": [
    "train_cleaned_df = pivoted_train.reset_index()\n",
    "train_cleaned_df['shop_id']= train_cleaned_df.shop_id.astype('str')\n",
    "train_cleaned_df['item_id']= train_cleaned_df.item_id.astype('str')\n",
    "\n",
    "item_to_cat_df = items.merge(item_cats[['item_category_id','english_category']], how=\"inner\", on=\"item_category_id\")[['item_id','english_category']]\n",
    "item_to_cat_df[['item_id']] = item_to_cat_df.item_id.astype('str')\n",
    "\n",
    "train_cleaned_df = train_cleaned_df.merge(item_to_cat_df, how=\"inner\", on=\"item_id\")\n",
    "\n",
    "number = preprocessing.LabelEncoder()\n",
    "train_cleaned_df[['english_category']] = number.fit_transform(train_cleaned_df.english_category)\n",
    "train_cleaned_df = train_cleaned_df[['shop_id', 'item_id', 'english_category'] + list(range(34))]\n",
    "train_cleaned_df.head()"
   ]
  },
  {
   "cell_type": "code",
   "execution_count": 29,
   "id": "8ba84580",
   "metadata": {},
   "outputs": [],
   "source": [
    " X_train, X_test, Y_train, Y_test = train_test_split( train_cleaned_df.iloc[:,  (train_cleaned_df.columns != 33)].values, train_cleaned_df.iloc[:, train_cleaned_df.columns == 33].values, test_size=0.30, random_state=42)"
   ]
  },
  {
   "cell_type": "markdown",
   "id": "b86ea00a",
   "metadata": {},
   "source": [
    "## XGBoost"
   ]
  },
  {
   "cell_type": "code",
   "execution_count": 30,
   "id": "3ee8ed05",
   "metadata": {},
   "outputs": [
    {
     "name": "stdout",
     "output_type": "stream",
     "text": [
      "[01:23:42] WARNING: ..\\src\\learner.cc:541: \n",
      "Parameters: { num_round, silent } might not be used.\n",
      "\n",
      "  This may not be accurate due to some parameters are only used in language bindings but\n",
      "  passed down to XGBoost core.  Or some parameters are not used but slip through this\n",
      "  verification. Please open an issue if you find above cases.\n",
      "\n",
      "\n",
      "1.9987214690646964\n"
     ]
    }
   ],
   "source": [
    "import xgboost as xgb\n",
    "param = {\n",
    "        'max_depth':10, \n",
    "         'subsample':1,\n",
    "         'min_child_weight':0.5,\n",
    "         'eta':0.3, \n",
    "         'num_round':1000, \n",
    "         'seed':1,\n",
    "         'silent':0,\n",
    "         'eval_metric':'rmse'}\n",
    "\n",
    "progress = dict()\n",
    "xgbtrain = xgb.DMatrix(train_cleaned_df.iloc[:,  (train_cleaned_df.columns != 33)].values, train_cleaned_df.iloc[:, train_cleaned_df.columns == 33].values)\n",
    "watchlist  = [(xgbtrain,'train-rmse')]\n",
    "\n",
    "bst = xgb.train(param, xgbtrain)\n",
    "preds = bst.predict(xgb.DMatrix(train_cleaned_df.iloc[:,  (train_cleaned_df.columns != 33)].values))\n",
    "from sklearn.metrics import mean_squared_error \n",
    "rmse = np.sqrt(mean_squared_error(preds,train_cleaned_df.iloc[:, train_cleaned_df.columns == 33].values))\n",
    "print(rmse)"
   ]
  },
  {
   "cell_type": "code",
   "execution_count": 31,
   "id": "46588494",
   "metadata": {},
   "outputs": [
    {
     "data": {
      "text/plain": [
       "<AxesSubplot:title={'center':'Feature importance'}, xlabel='F score', ylabel='Features'>"
      ]
     },
     "execution_count": 31,
     "metadata": {},
     "output_type": "execute_result"
    },
    {
     "data": {
      "image/png": "[encoded data removed]",
      "text/plain": [
       "<Figure size 432x288 with 1 Axes>"
      ]
     },
     "metadata": {
      "needs_background": "light"
     },
     "output_type": "display_data"
    }
   ],
   "source": [
    "xgb.plot_importance(bst)"
   ]
  },
  {
   "cell_type": "markdown",
   "id": "84a687a8",
   "metadata": {},
   "source": [
    "## Random Forest Classifier"
   ]
  },
  {
   "cell_type": "code",
   "execution_count": 32,
   "id": "07cfe114",
   "metadata": {},
   "outputs": [
    {
     "data": {
      "text/plain": [
       "RandomForestClassifier()"
      ]
     },
     "execution_count": 32,
     "metadata": {},
     "output_type": "execute_result"
    }
   ],
   "source": [
    "random_forest = RandomForestClassifier(n_estimators = 100)\n",
    "random_forest.fit(X_train, Y_train)"
   ]
  },
  {
   "cell_type": "code",
   "execution_count": 33,
   "id": "85c1df5d",
   "metadata": {},
   "outputs": [
    {
     "name": "stdout",
     "output_type": "stream",
     "text": [
      "12.17528390422683\n"
     ]
    }
   ],
   "source": [
    "preds_2 = random_forest.predict(X_test)\n",
    "rmse = np.sqrt(mean_squared_error(preds_2,Y_test))\n",
    "print(rmse)"
   ]
  },
  {
   "cell_type": "code",
   "execution_count": 34,
   "id": "d49d51da",
   "metadata": {},
   "outputs": [
    {
     "name": "stdout",
     "output_type": "stream",
     "text": [
      "Accuracy: 0.7681467296990007\n"
     ]
    }
   ],
   "source": [
    "from sklearn import metrics\n",
    "print(\"Accuracy:\",metrics.accuracy_score(Y_test, preds_2))"
   ]
  },
  {
   "cell_type": "code",
   "execution_count": 35,
   "id": "a2c85273",
   "metadata": {},
   "outputs": [
    {
     "data": {
      "text/plain": [
       "0.7681467296990007"
      ]
     },
     "execution_count": 35,
     "metadata": {},
     "output_type": "execute_result"
    }
   ],
   "source": [
    "from sklearn.metrics import f1_score\n",
    "f1_score(Y_test,preds_2,pos_label='positive',average='micro')"
   ]
  },
  {
   "cell_type": "code",
   "execution_count": 36,
   "id": "9d6582d7",
   "metadata": {},
   "outputs": [
    {
     "data": {
      "text/plain": [
       "array([0.14240824, 0.20768684, 0.04718266, 0.00794665, 0.00871591,\n",
       "       0.00889361, 0.00961651, 0.00927909, 0.00944756, 0.0089437 ,\n",
       "       0.00944792, 0.01008751, 0.01022647, 0.01027712, 0.01022341,\n",
       "       0.01111375, 0.0104849 , 0.01144859, 0.01347127, 0.01420931,\n",
       "       0.0139204 , 0.01435788, 0.01453892, 0.01604243, 0.02112869,\n",
       "       0.01960392, 0.02532359, 0.02433826, 0.02606084, 0.02528743,\n",
       "       0.02917957, 0.03043439, 0.03318518, 0.03540693, 0.04429353,\n",
       "       0.05578704])"
      ]
     },
     "execution_count": 36,
     "metadata": {},
     "output_type": "execute_result"
    }
   ],
   "source": [
    "random_forest.feature_importances_"
   ]
  },
  {
   "cell_type": "markdown",
   "id": "876b3c2e",
   "metadata": {},
   "source": [
    "## K Neighbors Classifier"
   ]
  },
  {
   "cell_type": "code",
   "execution_count": 37,
   "id": "148cd247",
   "metadata": {},
   "outputs": [
    {
     "data": {
      "text/plain": [
       "KNeighborsClassifier()"
      ]
     },
     "execution_count": 37,
     "metadata": {},
     "output_type": "execute_result"
    }
   ],
   "source": [
    "from sklearn import neighbors\n",
    "knn = neighbors.KNeighborsClassifier()\n",
    "knn.fit(X_train, Y_train)"
   ]
  },
  {
   "cell_type": "code",
   "execution_count": 38,
   "id": "168b2b3b",
   "metadata": {},
   "outputs": [
    {
     "name": "stdout",
     "output_type": "stream",
     "text": [
      "12.649182785663033\n"
     ]
    }
   ],
   "source": [
    "preds_3 = knn.predict(X_test)\n",
    "rmse = np.sqrt(mean_squared_error(preds_3,Y_test))\n",
    "print(rmse)"
   ]
  },
  {
   "cell_type": "code",
   "execution_count": 39,
   "id": "2d1557de",
   "metadata": {},
   "outputs": [
    {
     "name": "stdout",
     "output_type": "stream",
     "text": [
      "Accuracy: 0.7329304051223745\n"
     ]
    }
   ],
   "source": [
    "from sklearn import metrics\n",
    "print(\"Accuracy:\",metrics.accuracy_score(Y_test, preds_3))"
   ]
  },
  {
   "cell_type": "code",
   "execution_count": 47,
   "id": "21a9528b",
   "metadata": {},
   "outputs": [
    {
     "data": {
      "text/plain": [
       "0.7329304051223745"
      ]
     },
     "execution_count": 47,
     "metadata": {},
     "output_type": "execute_result"
    }
   ],
   "source": [
    "from sklearn.metrics import f1_score\n",
    "f1_score(Y_test,preds_3,pos_label='positive',average='micro')"
   ]
  },
  {
   "cell_type": "markdown",
   "id": "f28dd31f",
   "metadata": {},
   "source": [
    "## Logistic Regression"
   ]
  },
  {
   "cell_type": "code",
   "execution_count": 41,
   "id": "d3999693",
   "metadata": {},
   "outputs": [
    {
     "data": {
      "text/plain": [
       "LogisticRegression()"
      ]
     },
     "execution_count": 41,
     "metadata": {},
     "output_type": "execute_result"
    }
   ],
   "source": [
    "from sklearn import linear_model\n",
    "log_reg = linear_model.LogisticRegression()\n",
    "log_reg.fit(X_train,Y_train)"
   ]
  },
  {
   "cell_type": "markdown",
   "id": "7b4d5067",
   "metadata": {},
   "source": [
    "### Logistic regression Score"
   ]
  },
  {
   "cell_type": "code",
   "execution_count": 42,
   "id": "78bf84a2",
   "metadata": {},
   "outputs": [
    {
     "name": "stdout",
     "output_type": "stream",
     "text": [
      "12.851695927206405\n"
     ]
    }
   ],
   "source": [
    "preds_4 = log_reg.predict(X_test)\n",
    "rmse = np.sqrt(mean_squared_error(preds_4,Y_test))\n",
    "print(rmse)"
   ]
  },
  {
   "cell_type": "code",
   "execution_count": 43,
   "id": "2bedbc7a",
   "metadata": {},
   "outputs": [
    {
     "name": "stdout",
     "output_type": "stream",
     "text": [
      "Accuracy: 0.7415774041050804\n"
     ]
    }
   ],
   "source": [
    "print(\"Accuracy:\",metrics.accuracy_score(Y_test, preds_4))"
   ]
  },
  {
   "cell_type": "code",
   "execution_count": 44,
   "id": "8b494f2f",
   "metadata": {},
   "outputs": [
    {
     "name": "stdout",
     "output_type": "stream",
     "text": [
      "F1 score: 0.7415774041050804\n"
     ]
    }
   ],
   "source": [
    "from sklearn.metrics import f1_score\n",
    "print(\"F1 score:\",f1_score(Y_test,preds_4,pos_label='positive',average='micro'))"
   ]
  }
 ],
 "metadata": {
  "kernelspec": {
   "display_name": "Python 3",
   "language": "python",
   "name": "python3"
  },
  "language_info": {
   "codemirror_mode": {
    "name": "ipython",
    "version": 3
   },
   "file_extension": ".py",
   "mimetype": "text/x-python",
   "name": "python",
   "nbconvert_exporter": "python",
   "pygments_lexer": "ipython3",
   "version": "3.9.5"
  }
 },
 "nbformat": 4,
 "nbformat_minor": 5
}
